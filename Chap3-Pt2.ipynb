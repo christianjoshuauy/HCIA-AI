{
 "cells": [
  {
   "cell_type": "code",
   "execution_count": 5,
   "id": "e5c38281-6820-4146-b65c-7c546022cc37",
   "metadata": {},
   "outputs": [],
   "source": [
    "import tensorflow as tf\n",
    "from tensorflow import keras\n",
    "import numpy as np\n",
    "\n",
    "model = keras.Sequential()\n",
    "# Add the convolutional layer\n",
    "model.add(keras.layers.Conv2D(filters=32, kernel_size=5, strides=(1,1), padding='same', activation=tf.nn.relu, input_shape=(28,28,1)))\n",
    "# Add the pooling layer\n",
    "model.add(keras.layers.MaxPool2D(pool_size=(2,2), strides=(2,2), padding='valid'))\n",
    "# Add the second convolutional layer\n",
    "model.add(keras.layers.Conv2D(filters=64, kernel_size=3, strides=(1,1), padding='same', activation=tf.nn.relu))\n",
    "# ADd the second pooling layer\n",
    "model.add(keras.layers.MaxPool2D(pool_size=(2,2), strides=(2,2), padding='valid'))\n",
    "# Add a dropout layer to reduce overfitting\n",
    "model.add(keras.layers.Dropout(0.25))\n",
    "model.add(keras.layers.Flatten())\n",
    "# Add two fully connected layers\n",
    "model.add(keras.layers.Dense(units=128, activation=tf.nn.relu))\n",
    "model.add(keras.layers.Dropout(0.5))\n",
    "model.add(keras.layers.Dense(units=10, activation=tf.nn.softmax))"
   ]
  },
  {
   "cell_type": "code",
   "execution_count": null,
   "id": "e54b4fea-e35c-4c32-884e-d3c64ff01f16",
   "metadata": {},
   "outputs": [],
   "source": [
    "# Expand data dimensions to adapt to the CNN model\n",
    "x_train = "
   ]
  }
 ],
 "metadata": {
  "kernelspec": {
   "display_name": "Python 3 (ipykernel)",
   "language": "python",
   "name": "python3"
  },
  "language_info": {
   "codemirror_mode": {
    "name": "ipython",
    "version": 3
   },
   "file_extension": ".py",
   "mimetype": "text/x-python",
   "name": "python",
   "nbconvert_exporter": "python",
   "pygments_lexer": "ipython3",
   "version": "3.11.3"
  }
 },
 "nbformat": 4,
 "nbformat_minor": 5
}
